{
 "cells": [
  {
   "cell_type": "markdown",
   "metadata": {},
   "source": [
    "# EE 120 Lab 0: Scientific Python Tutorial\n",
    "\n",
    "**Signals and Systems** at UC Berkeley\n",
    "\n",
    "Acknowledgements:\n",
    "\n",
    "- **Spring 2019** (v1.0): Dominic Carrano, Sukrit Arora, Babak Ayazifar  \n",
    "- **Fall 2019** (v2.0): Dominic Carrano  \n",
    "- **Spring 2020** (v2.1): Dominic Carrano"
   ]
  },
  {
   "cell_type": "code",
   "execution_count": null,
   "metadata": {},
   "outputs": [],
   "source": [
    "# Click on me and hit Shift + Enter!\n",
    "import numpy as np\n",
    "import matplotlib.pyplot as plt\n",
    "import lab0_helper\n",
    "%matplotlib inline"
   ]
  },
  {
   "cell_type": "markdown",
   "metadata": {},
   "source": [
    "# Q1: The Python Scientific Computing Stack\n",
    "\n",
    "If you have taken CS 61A or EECS 16AB, you're already familiar with the Python programming language and some of its scientific computing capabilities, but this should still be a nice refresher. If you haven't, then this lab will get you up to speed on everything you need to know to complete the labs this semester.\n",
    "\n",
    "This question was adapted and extended from the [Berkeley Python Bootcamp 2013](https://github.com/profjsb/python-bootcamp), \n",
    "[Python for Signal Processing](http://link.springer.com/book/10.1007%2F978-3-319-01342-8), [EE 123](https://inst.eecs.berkeley.edu/~ee123/sp18/lab/lab0/python_tutorial.ipynb), and [EECS 126](https://inst.eecs.berkeley.edu/~ee126/sp18/LAB01.zip) Jupyter Notebook Tutorials. Note that there's no code to write for this question; it's entirely an interactive demo. Feel free to open up cells and experiment!"
   ]
  },
  {
   "cell_type": "markdown",
   "metadata": {},
   "source": [
    "## Q1a: The Jupyter Notebook Environment\n",
    "\n",
    "This interactive tool we're currently working in, and that we'll be using for all the labs this semester, is known as a *Jupyter Notebook*. It came out in ~2015 as a spinoff of the iPython platform. It's an incredible tool for interactive programming and experimentation that you'll learn to love this semester. Fun fact: one of the lead contributors, Fernando Perez, is a professor here at Berkeley!\n",
    "\n",
    "### Cells\n",
    "\n",
    "The Jupyter Notebook is divided into cells. Each cell can contain texts, codes or html scripts. Running a non-code cell simply advances to the next cell. To run a code cell using Shift-Enter or pressing the play button in the toolbar above:"
   ]
  },
  {
   "cell_type": "code",
   "execution_count": null,
   "metadata": {},
   "outputs": [],
   "source": [
    "1+2"
   ]
  },
  {
   "cell_type": "markdown",
   "metadata": {},
   "source": [
    "### Interrupting the kernel\n",
    "\n",
    "For debugging, often we would like to interupt the current running process. This can be done by pressing the stop button, the black box in between the Run and Restart buttons.\n",
    "\n",
    "When a processing is running, the circle on the right upper corner is filled. When idle, the circle is empty."
   ]
  },
  {
   "cell_type": "code",
   "execution_count": null,
   "metadata": {},
   "outputs": [],
   "source": [
    "import time\n",
    "\n",
    "while(1):\n",
    "    print(\"error\")\n",
    "    time.sleep(1)"
   ]
  },
  {
   "cell_type": "markdown",
   "metadata": {},
   "source": [
    "### Restarting the Kernels\n",
    "\n",
    "Interrupting sometimes does not work. You can reset the state by restarting the kernel by clicking `Kernel -> Restart`, or the Refresh button in the toolbar above."
   ]
  },
  {
   "cell_type": "markdown",
   "metadata": {},
   "source": [
    "### Saving the Notebook\n",
    "\n",
    "To save your notebook, you can select `\"File->Save and Checkpoint\"`. Alternatively, for a shortcut, hit `Command-s` on Mac or `Ctrl-s` on Windows. Try it out right now to make sure your work is saved."
   ]
  },
  {
   "cell_type": "markdown",
   "metadata": {},
   "source": [
    "### Undoing\n",
    "\n",
    "To undo changes in each cell, hit `Command-z` for Mac and `Ctrl-z` for Windows.\n",
    "To undo `Delete Cell`, select `Edit->Undo Delete Cell`."
   ]
  },
  {
   "cell_type": "markdown",
   "metadata": {},
   "source": [
    "### Tab Completion\n",
    "\n",
    "One useful feature of iPython notebook is tab completion, which can save you a lot of time in typing out variable and function names while writing code. Try it out below!"
   ]
  },
  {
   "cell_type": "code",
   "execution_count": null,
   "metadata": {},
   "outputs": [],
   "source": [
    "one_plus_one = 1+1\n",
    "\n",
    "# type `one_` then hit TAB will auto-complete the variable\n",
    "print(one_plus_one)"
   ]
  },
  {
   "cell_type": "markdown",
   "metadata": {},
   "source": [
    "### Help Menu for Functions\n",
    "\n",
    "Another useful feature is the help command. Type any function followed by `?` returns a help window. This is an incredibly underappreciated feature of iPython notebook, as it enables you to get all the information you need about a function (e.g., what arguments it exptects, what it returns and in what order) without searching for the documentation online. Hit the `x` button to close it."
   ]
  },
  {
   "cell_type": "code",
   "execution_count": null,
   "metadata": {},
   "outputs": [],
   "source": [
    "abs?"
   ]
  },
  {
   "cell_type": "markdown",
   "metadata": {},
   "source": [
    "### Other Jupyter Notebook Navigation Tips\n",
    "- To add a new cell, either select `\"Insert->Insert New Cell Below\"` or click the white plus button.\n",
    "- You can change the cell mode from code to text in the pulldown menu. I use `Markdown` for text.\n",
    "- You can change the texts in the `Markdown` cells by double-clicking them.\n",
    "- `Help->Keyboard Shortcuts` has a list of keyboard shortcuts."
   ]
  },
  {
   "cell_type": "markdown",
   "metadata": {},
   "source": [
    "### Libraries\n",
    "\n",
    "These are the libraries that we will be using in this class:\n",
    "    \n",
    "- __NumPy__: The fundamental package for scientific computing with Python.\n",
    "\n",
    "- __SciPy__: A collection of numerical algorithms and domain-specific toolboxes, including signal processing, optimization, statistics and much more.\n",
    "\n",
    "- __Matplotlib__: A Python 2D plotting library which produces publication quality figures in a variety of hardcopy formats and interactive environments across platforms.\n",
    "\n",
    "#### About Each\n",
    "\n",
    "NumPy and Matplotlib are almost like sub-programming languages inside Python for scientific computing and plotting, respectively. By the end of this semester, you'll be well-seasoned in both. \n",
    "\n",
    "SciPy, on the other hand, is a collection of useful functions that you'll look up when you need to do something really specific that NumPy doesn't have, like digital filter design (see EE 123 for more) or some more complicated algorithms like k-means clustering (as you saw in EE 16B)."
   ]
  },
  {
   "cell_type": "markdown",
   "metadata": {},
   "source": [
    "### Importing\n",
    "\n",
    "To import a specific library `x`, simply type `import x`.\n",
    "\n",
    "To access the library function `f`, type `x.f`.\n",
    "\n",
    "If you want to change the library name to `y`, type `import x as y`."
   ]
  },
  {
   "cell_type": "code",
   "execution_count": null,
   "metadata": {},
   "outputs": [],
   "source": [
    "# CONVENTION: \"import numpy as np\" when importing numpy, it lets us use \"np\" as shorthand!\n",
    "\n",
    "# You could just as easily do \"import numpy as derp\", but then you'd have all this weird code\n",
    "# like \"derp.convolve(x, h, mode='full')\" - the standard convention is to use \"np\" for numpy\n",
    "import numpy as np \n",
    "np.ones((3,1))"
   ]
  },
  {
   "cell_type": "markdown",
   "metadata": {},
   "source": [
    "## Q1b: Data Representation in Python and NumPy"
   ]
  },
  {
   "cell_type": "markdown",
   "metadata": {},
   "source": [
    "### Floats and Integers\n",
    "\n",
    "Unlike MATLAB, there is a difference between the `int` and `float` types in Python 2.  Mainly, integer division returns the floor in Python 2. However, in Python 3 floor division is done with \"//\". Make sure you know what version you're working with!"
   ]
  },
  {
   "cell_type": "code",
   "execution_count": null,
   "metadata": {},
   "outputs": [],
   "source": [
    "1 / 4 # in Python 2, returns 0; in Python 3, returns 0.25"
   ]
  },
  {
   "cell_type": "code",
   "execution_count": null,
   "metadata": {},
   "outputs": [],
   "source": [
    "1 / 4.0"
   ]
  },
  {
   "cell_type": "code",
   "execution_count": null,
   "metadata": {},
   "outputs": [],
   "source": [
    "1 // 4 # floor division in Python 3 with \"//\""
   ]
  },
  {
   "cell_type": "markdown",
   "metadata": {},
   "source": [
    "### Strings\n",
    "\n",
    "Unlike Java or C, double quotes (\"I am double quoted!\") and single quotes ('I, however, am single quoted') are the same thing in Python. Both represent strings. Python lets us use `'+'` to concatenates strings, making for very simple and readable code."
   ]
  },
  {
   "cell_type": "code",
   "execution_count": null,
   "metadata": {},
   "outputs": [],
   "source": [
    "\"EE \" + '120' # we can mix and match single and double quotes and Python won't care"
   ]
  },
  {
   "cell_type": "markdown",
   "metadata": {},
   "source": [
    "### Lists\n",
    "\n",
    "A list is a **mutable** array of data. That is, we can change it after we create it. They can be created using square brackets: `[]`.\n",
    "\n",
    "\n",
    "Important functions: \n",
    "- `'+'` concatenates lists. \n",
    "- `len(x)` returns the number of elements in the list."
   ]
  },
  {
   "cell_type": "code",
   "execution_count": null,
   "metadata": {},
   "outputs": [],
   "source": [
    "x = [\"EE\"] + [1, 2, 0]\n",
    "print(x)"
   ]
  },
  {
   "cell_type": "code",
   "execution_count": null,
   "metadata": {},
   "outputs": [],
   "source": [
    "print(len(x))"
   ]
  },
  {
   "cell_type": "markdown",
   "metadata": {},
   "source": [
    "We can also write **list comprehensions** which enable us to perform some iterative computation to construct a list without having to explicitly write out a for loop. The expression `[f(i) for i in some_other_iterable]`, where `f` is some Python function, will generate the list `[f(my_other_list[0]), ..., f(my_other_list[-1])]`. \n",
    "\n",
    "Below is an example to generate the squares of the first 10 positive integers."
   ]
  },
  {
   "cell_type": "code",
   "execution_count": null,
   "metadata": {},
   "outputs": [],
   "source": [
    "def square(x):\n",
    "    return x * x\n",
    "\n",
    "[square(i) for i in range(1, 11)]"
   ]
  },
  {
   "cell_type": "markdown",
   "metadata": {},
   "source": [
    "### Tuples\n",
    "\n",
    "A tuple is an immutable list. They can be created using round brackets (). \n",
    "They are usually used as inputs and outputs to functions."
   ]
  },
  {
   "cell_type": "code",
   "execution_count": null,
   "metadata": {},
   "outputs": [],
   "source": [
    "t = (\"E\", \"E\") + (1, 2, 0)\n",
    "print(t)"
   ]
  },
  {
   "cell_type": "code",
   "execution_count": null,
   "metadata": {},
   "outputs": [],
   "source": [
    "# cannot do assignment to a tuple after creation - it's immutable\n",
    "t[4] = 3 # will error\n",
    "\n",
    "# note: errors in ipython notebook appear \"inline\", i.e. inside the notebook itself"
   ]
  },
  {
   "cell_type": "markdown",
   "metadata": {},
   "source": [
    "### Functions\n",
    "\n",
    "Functions take in a set of arguments, and return (possibly multiple) values. Here's an example of a function that checks if a number is divisible by 3, using Python's modulus operator (`a % b` returns the remainder of dividing `a` by `b`; if the remainder is 0, then `a` is divisible by `b`):"
   ]
  },
  {
   "cell_type": "code",
   "execution_count": null,
   "metadata": {},
   "outputs": [],
   "source": [
    "def is_divisible_by_3(x):\n",
    "    return x % 3 == 0\n",
    "\n",
    "print(\"6 is divisible by 3? {0}\".format(is_divisible_by_3(6)))\n",
    "print(\"8 is divisible by 3? {0}\".format(is_divisible_by_3(8)))"
   ]
  },
  {
   "cell_type": "markdown",
   "metadata": {},
   "source": [
    "You can also return multiple values from a function at once; just separate them with commas in the return statement. Similarly, to assign them to values after the function call, just separate the variables you want to assign the return values to by commas. Here's a dummy example that takes in two numbers, and returns their sum and their difference:"
   ]
  },
  {
   "cell_type": "code",
   "execution_count": null,
   "metadata": {},
   "outputs": [],
   "source": [
    "def sum_and_diff(x, y):\n",
    "    return x+y, x-y\n",
    "\n",
    "a, b = sum_and_diff(3, 5)\n",
    "print(a) # 3 + 5 = 8\n",
    "print(b) # 3 - 5 = -2 "
   ]
  },
  {
   "cell_type": "markdown",
   "metadata": {},
   "source": [
    "### NumPy Array\n",
    "\n",
    "The NumPy array, aka an \"ndarray\", is like a list with multidimensional support and more functions. This will be the primary data structure in our class.\n",
    "\n",
    "Arithmetic operations on NumPy arrays correspond to elementwise operations. \n",
    "\n",
    "Important NumPy Array functions:\n",
    "\n",
    "- `.shape` returns the dimensions of the array.\n",
    "\n",
    "- `.ndim` returns the number of dimensions. \n",
    "\n",
    "- `.size` returns the number of entries in the array.\n",
    "\n",
    "- `len()` returns the first dimension.\n",
    "\n",
    "\n",
    "To use functions in NumPy, we have to import NumPy to our workspace. This is done by the command `import numpy`. By convention, we rename `numpy` as `np` for convenience."
   ]
  },
  {
   "cell_type": "markdown",
   "metadata": {},
   "source": [
    "### Creating a NumPy Array"
   ]
  },
  {
   "cell_type": "code",
   "execution_count": null,
   "metadata": {},
   "outputs": [],
   "source": [
    "x = np.array([[1, 2], [3 , 4]])\n",
    "print(x)"
   ]
  },
  {
   "cell_type": "markdown",
   "metadata": {},
   "source": [
    "### Getting the shape of a NumPy Array"
   ]
  },
  {
   "cell_type": "code",
   "execution_count": null,
   "metadata": {},
   "outputs": [],
   "source": [
    "x.shape # returns the dimensions of the numpy array"
   ]
  },
  {
   "cell_type": "code",
   "execution_count": null,
   "metadata": {},
   "outputs": [],
   "source": [
    "np.shape(x) # equivalent to x.shape"
   ]
  },
  {
   "cell_type": "markdown",
   "metadata": {},
   "source": [
    "## Q1c: Operations on Data in Python and NumPy"
   ]
  },
  {
   "cell_type": "markdown",
   "metadata": {},
   "source": [
    "### Elementwise operations\n",
    "\n",
    "One major advantage of using NumPy arrays is that arithmetic operations on NumPy arrays correspond to elementwise operations. This makes NumPy amenable to vectorized implementations of algorithms, a common technique used for speeding up computer simulations than can be parallelized."
   ]
  },
  {
   "cell_type": "code",
   "execution_count": null,
   "metadata": {},
   "outputs": [],
   "source": [
    "print(x)\n",
    "print()\n",
    "print(x + 2) # numpy is smart and assumes you want this to be done to all elements!"
   ]
  },
  {
   "cell_type": "markdown",
   "metadata": {},
   "source": [
    "### Matrix multiplication\n",
    "\n",
    "You can use `np.matrix` with the multiplication operator or `np.dot` to do matrix multiplication."
   ]
  },
  {
   "cell_type": "code",
   "execution_count": null,
   "metadata": {},
   "outputs": [],
   "source": [
    "print(np.matrix(x) * np.matrix(x))\n",
    "print() # newline for formatting\n",
    "\n",
    "# Or\n",
    "print(np.dot(x,x))"
   ]
  },
  {
   "cell_type": "markdown",
   "metadata": {},
   "source": [
    "### Slicing NumPy arrays\n",
    "\n",
    "NumPy uses pass-by-reference semantics so it creates views into the existing array, without implicit copying. This is particularly helpful with very large arrays because copying can be slow."
   ]
  },
  {
   "cell_type": "code",
   "execution_count": null,
   "metadata": {},
   "outputs": [],
   "source": [
    "x = np.array([1,2,3,4,5,6])\n",
    "print(x)"
   ]
  },
  {
   "cell_type": "markdown",
   "metadata": {},
   "source": [
    "We slice an array from a to b-1 with `[a:b]`."
   ]
  },
  {
   "cell_type": "code",
   "execution_count": null,
   "metadata": {},
   "outputs": [],
   "source": [
    "y = x[0:4]\n",
    "print(y)"
   ]
  },
  {
   "cell_type": "markdown",
   "metadata": {},
   "source": [
    "Because slicing does not copy the array, changing `y` changes `x`."
   ]
  },
  {
   "cell_type": "code",
   "execution_count": null,
   "metadata": {},
   "outputs": [],
   "source": [
    "y[0] = 7\n",
    "print(x)\n",
    "print(y)"
   ]
  },
  {
   "cell_type": "markdown",
   "metadata": {},
   "source": [
    "To actually copy x, we should use `.copy()`. "
   ]
  },
  {
   "cell_type": "code",
   "execution_count": null,
   "metadata": {},
   "outputs": [],
   "source": [
    "x = np.array([1,2,3,4,5,6])\n",
    "y = x.copy()\n",
    "y[0] = 7\n",
    "print(x)\n",
    "print(y)"
   ]
  },
  {
   "cell_type": "markdown",
   "metadata": {},
   "source": [
    "### Useful Numpy function: arange\n",
    "\n",
    "We use `arange` to create integer sequences in NumPy arrays. It's exactly like the normal range function in Python, except that it automatically returns the result as a NumPy array, rather than the plain vanilla Python list.\n",
    "\n",
    "`arange(0,N)` creates an array listing every integer from 0 to N-1.\n",
    "\n",
    "`arange(0,N,m)` creates an array listing every `m` th integer from 0 to N-1 ."
   ]
  },
  {
   "cell_type": "code",
   "execution_count": null,
   "metadata": {},
   "outputs": [],
   "source": [
    "print(np.arange(-5,5)) # every integer from -5 ... 4"
   ]
  },
  {
   "cell_type": "code",
   "execution_count": null,
   "metadata": {},
   "outputs": [],
   "source": [
    "print(np.arange(0,5,2)) # every other integer from 0 ... 4"
   ]
  },
  {
   "cell_type": "markdown",
   "metadata": {},
   "source": [
    "## Q1d: Visualizing Data\n",
    "\n",
    "Most of the work in scientific computing is in writing and debugging code. But no one cares about your code, they care about your results! Accordingly, it's important to be able to generate a nice looking plot that summarizes your results. Plotting is also a great debugging tool. \n",
    "\n",
    "We'll be using [Matplotlib](https://matplotlib.org/) for plotting signals and images in the labs. Specifically, we'll use the `pyplot` module, used for visualizing one-dimensional data, such as signals. By convention, we import `matplotlib.pyplot` as `plt`, so that when we call functions to generate our visuals, such as `matplotlib.pyplot.plot`, the function to plot, we can use the shorthand `plt.plot` instead.\n",
    "\n",
    "**To display the plots inside the browser, we use the command `%matplotlib inline` - do not forget this line whenever you start a new notebook.** This stops Python from opening a separate graphics window, displaying all plots directly inside the notebook instead. We'll always include it for you, but in case your plots aren't showing up in the notebook when you're playing around on your own, it's probably because you forgot this. If you don't include it, Python will default to displaying it in another window on your computer, which normally is fine, but here we need the plots in the notebook so they show up in your submission PDF."
   ]
  },
  {
   "cell_type": "code",
   "execution_count": null,
   "metadata": {},
   "outputs": [],
   "source": [
    "import matplotlib.pyplot as plt # by convention, we import matplotlib.pyplot as plt\n",
    "\n",
    "# plot in browser instead of opening new windows\n",
    "%matplotlib inline"
   ]
  },
  {
   "cell_type": "code",
   "execution_count": null,
   "metadata": {},
   "outputs": [],
   "source": [
    "# Generate signals\n",
    "x = np.arange(0, 1, 0.001)\n",
    "y1 = np.exp(-x)                              # decaying exponential\n",
    "y2 = np.sin(2 * np.pi * 10.0 * x)/4.0 + 0.5  # 10 Hz sine wave"
   ]
  },
  {
   "cell_type": "markdown",
   "metadata": {},
   "source": [
    "### Plotting One Signal"
   ]
  },
  {
   "cell_type": "code",
   "execution_count": null,
   "metadata": {},
   "outputs": [],
   "source": [
    "plt.figure()\n",
    "plt.plot(x, y1)\n",
    "plt.show()"
   ]
  },
  {
   "cell_type": "markdown",
   "metadata": {},
   "source": [
    "### Plotting Multiple Signals in One Figure"
   ]
  },
  {
   "cell_type": "code",
   "execution_count": null,
   "metadata": {},
   "outputs": [],
   "source": [
    "plt.figure()\n",
    "plt.plot(x, y1)\n",
    "plt.plot(x, y2)\n",
    "plt.show()"
   ]
  },
  {
   "cell_type": "markdown",
   "metadata": {},
   "source": [
    "### Plotting multiple signals in different figures"
   ]
  },
  {
   "cell_type": "code",
   "execution_count": null,
   "metadata": {},
   "outputs": [],
   "source": [
    "# figsize is the dimensions of the figure:\n",
    "# - the first argument is the width\n",
    "# - the second is height\n",
    "\n",
    "# it's useful when you want to adjust the figure's dimensions, e.g. you \n",
    "# need a huge x-axis for data taken over a long time period\n",
    "plt.figure(figsize=(16, 4))\n",
    "plt.plot(x, y1)\n",
    "\n",
    "# fancy formatting stuff - try playing with it!\n",
    "plt.title(\"Decaying Exponential\")\n",
    "plt.xlabel(\"Time\")\n",
    "plt.ylabel(\"Amplitude\")\n",
    "plt.legend([\"$e^{-x}$\"])    # LaTeX fancy formatting\n",
    "plt.xlim([0, 1])            # zoom in on x-axis \n",
    "\n",
    "\n",
    "# asking plt for a new figure before plotting will put the next call to plt.plot\n",
    "# on that new figure\n",
    "plt.figure(figsize=(16, 4)) \n",
    "plt.plot(x, y2)\n",
    "plt.title(\"10 Hz Sine Wave\")\n",
    "\n",
    "# ALWAYS make sure to call plt.show() *ONCE* after all your plotting code so your plots are displayed!\n",
    "# You only need to call it once per code cell, even if you have multiple figures.\n",
    "plt.show()"
   ]
  },
  {
   "cell_type": "markdown",
   "metadata": {},
   "source": [
    "**Make no mistake - the data points used for plotting on a computer truly always are discrete, but matplotlib's `plt.plot()` function interpolates them, giving us the continuous waveforms you see above.**"
   ]
  },
  {
   "cell_type": "markdown",
   "metadata": {},
   "source": [
    "You can also add a title and legend with `plt.title()`, `plt.legend()` to make your plots look professional. Using dollar signs, you can add math symbols, as in LaTeX."
   ]
  },
  {
   "cell_type": "code",
   "execution_count": null,
   "metadata": {
    "scrolled": false
   },
   "outputs": [],
   "source": [
    "# The figsize parameter can help you shape your figure\n",
    "plt.figure(figsize=(10,7))\n",
    "plt.plot(x, y1)\n",
    "plt.plot(x, y2)\n",
    "plt.xlabel(\"x axis\")\n",
    "plt.ylabel(\"y axis\")\n",
    "plt.title(\"Title\")\n",
    "\n",
    "# You can also change the legend font size by passing in the fontsize= paramater\n",
    "plt.legend((r'$e^{-x}$', r'$\\frac{\\sin(2\\pi \\cdot 10\\cdot x)}{4}+0.5$'), fontsize=14)\n",
    "plt.show()"
   ]
  },
  {
   "cell_type": "markdown",
   "metadata": {},
   "source": [
    "You can also specify more options in `plot()`, such as color and linewidth. You can also change the axis using `plt.axis`."
   ]
  },
  {
   "cell_type": "code",
   "execution_count": null,
   "metadata": {},
   "outputs": [],
   "source": [
    "plt.figure(figsize=(10,7))\n",
    "plt.plot(x, y1, \":r\", linewidth=10)\n",
    "plt.plot(x, y2, \"--k\")\n",
    "plt.xlabel(\"x axis\")\n",
    "plt.ylabel(\"y axis\")\n",
    "\n",
    "plt.title(\"Title\")\n",
    "\n",
    "plt.legend((r'$e^{-x}$', r'$\\frac{\\sin(10\\cdot x)}{4}+0.5$'), fontsize=14)\n",
    "\n",
    "# plt.axis takes in a list of the form [x_lower, x_upper, y_lower, y_upper]\n",
    "plt.axis([0, 0.5, -0.5, 1.5])\n",
    "plt.show()"
   ]
  },
  {
   "cell_type": "code",
   "execution_count": null,
   "metadata": {},
   "outputs": [],
   "source": [
    "# xkcd: the Comic sans of plot styles\n",
    "with plt.xkcd():\n",
    "    plt.figure()\n",
    "    plt.plot(x, y1, 'b')\n",
    "    plt.plot(x, y2, color='orange')\n",
    "    plt.xlabel(\"x axis\")\n",
    "    plt.ylabel(\"y axis\")\n",
    "    plt.title(\"Title\")\n",
    "    plt.legend((\"blue\", \"orange\"))\n",
    "    plt.show()"
   ]
  },
  {
   "cell_type": "markdown",
   "metadata": {},
   "source": [
    "### Other Plotting Functions"
   ]
  },
  {
   "cell_type": "markdown",
   "metadata": {},
   "source": [
    "There are many other plotting functions. For example, we will use `plt.imshow()` for showing images."
   ]
  },
  {
   "cell_type": "code",
   "execution_count": null,
   "metadata": {},
   "outputs": [],
   "source": [
    "image = np.outer(y1, y2) # plotting the outer product of y1 and y2\n",
    "\n",
    "plt.figure()\n",
    "plt.imshow(image)\n",
    "plt.show()"
   ]
  },
  {
   "cell_type": "markdown",
   "metadata": {},
   "source": [
    "Similarly, we use `plt.stem()` for plotting discretized signals (technically, on a computer, everything is discretized, but it's often as a result of sampling something continuous, in which case it's often more informative to plot it as a continuous signal with `plt.plot()`)."
   ]
  },
  {
   "cell_type": "code",
   "execution_count": null,
   "metadata": {},
   "outputs": [],
   "source": [
    "# decaying exponential\n",
    "n = np.arange(0, 10)\n",
    "signal = np.exp(-n / 2) \n",
    "\n",
    "# stem plot on an 8-by-4 inch figure\n",
    "plt.figure(figsize=(8, 4))\n",
    "plt.stem(n, signal)\n",
    "\n",
    "# zoom out a little on both axes to get cleaner looking plot\n",
    "plt.xlim([-.5, 9.5])\n",
    "plt.ylim([0, 1.2])\n",
    "plt.show()"
   ]
  },
  {
   "cell_type": "markdown",
   "metadata": {},
   "source": [
    "# Q2: Practice with Signals\n",
    "\n",
    "Now that you're acquainted with the basics of Python and the Jupyter Notebook environment, we'll practice generating and plotting signals. This is a great starting point, since generating and visualizing signals makes up most of what we do in the labs; the signals (and what we do with them) just get more interesting as we progress through the semester."
   ]
  },
  {
   "cell_type": "markdown",
   "metadata": {},
   "source": [
    "## What is a signal?\n",
    "\n",
    "In EE 120, almost all signals we work with will be functions of a single independent variable — known as \"1D\" signals  — which represents time. Considering signals as functions is an incredibly useful idea, as it enables us to do all sorts of operations on them that you're already familar with, such as multiplying them elementwise or taking linear combinations of them. There are two types of signals we'll consider in this class, detailed below.\n",
    "- **Discrete Time (DT) signals:**\n",
    "    - Functions from the integers, $\\{..., -2, -1, 0, 1, 2, ...\\}$, to the real (or complex) numbers.\n",
    "    - The variable for time, an integer, is typically represented using $n, k$ or $m$.\n",
    "    - Visualized using \"lollipop plots\", such as the one in the last example of Question 1. The point on the end of the lollipop indicates the signal value at a given input.\n",
    "- **Continuous Time (CT) signals:**\n",
    "    - Functions from the real numbers to the real (or complex) numbers.\n",
    "    - The variable for time, a real number, is typically represented using $t$ or $\\tau$.\n",
    "    - Visualized using the standard plots you've seen in high school, with a continuously varying independent variable ($t$) on the horiztonal axis, and the continuously varying dependent variable ($x(t)$) on the vertical axis.\n",
    "\n",
    "Later in the semester, we'll see how, under certain assumptions, we can go back and forth between the continuous and discrete realms using sampling and interpolation without any loss of information."
   ]
  },
  {
   "cell_type": "markdown",
   "metadata": {},
   "source": [
    "## Pencil and Paper vs Python: Interpreting time indices\n",
    "\n",
    "When working on a computer, there is a key limitation we must cope with: **finite memory**. We can't store a signal's value for every integer (in the DT case) or every real number (in the CT case). Instead, we represent signals as discrete arrays of some fixed length $N$. As a result, there are understood conventions in signals and systems for how to interpret the time indices associated with a signal's array representation on a computer. Suppose we have a Python variable `sig`, which is a NumPy array representing a signal.\n",
    "- **If `sig` represents a DT signal $x$:** \n",
    "    - `sig[0]` is interpreted as corresponding to time zero, that is, $x(0)$. \n",
    "    - `sig[N-1]` corresponds to $x(N-1)$. Remember, there are a total of $N$ values since we can't store infinitely many, so this is the end of the array. \n",
    "    - This convention is quite natural, as it's the same as the array indexing convention in most programming languages. \n",
    "- **If `sig` represents a CT signal $y$**: \n",
    "    - All CT signals are first *sampled* before they go onto a computer for processing — we can't store a countably infinite number of values in the DT case, so we certainly can't store an uncountably infinite number for CT.\n",
    "    - The solution is to sample the signal value every $T$ seconds, taking $N$ total to form an array we can use in Python. This means the array contains $y(0), y(T), y(2T), ..., y((N-1) T)$. As in the DT case, `sig[0]` is understood to correspond to $y(0)$. \n",
    "        - To give a concrete example, digital audio is typically obtained by sampling acoustic pressure on a microphone (a CT signal) at 44.1 kHz, or 44100 times a second. This means that each sample is separated by $T=1/44100$ seconds. \n",
    "        - Taking the variable $t$ to be measured in seconds, we see that `sig[1]` is $y(1/44100)$, `sig[2]` is $y(2/44100)$, and so on. \n",
    "        - The last array entry, `sig[N-1]`, is $y((N-1)/44100)$.\n",
    "- Depending on whether `sig` represents a DT signal or a CT signal, we'll may plot it using a lollipop plot (with `plt.stem`) or a standard, smooth interpolated plot (with `plt.plot`).\n",
    "\n",
    "**In both DT and CT, we assume that before the first and after the $N$th array value, the true signal $x$ or $y$ is zero.** In practice, the true signal may not actually be zero outside this range. Part of the data acquisition process is making sure the $N$ values you have are good enough, so that we can safely ignore any truncation that may have occurred once we move on to doing the actual signal processing.\n",
    "\n",
    "In this question, we'll only consider DT signals, with associated time indices given to you. Sometimes, you'll be asked to include some of the implicit zeros as you gain comfort with these conventions. Later in the lab, you'll have a chance to play around with CT signals."
   ]
  },
  {
   "cell_type": "markdown",
   "metadata": {},
   "source": [
    "## Q2a: The Rectangular Signal\n",
    "\n",
    "The length $L$ rectangular signal (sometimes also called the \"rect\" for short, or, alternatively, the \"boxcar\" signal) is defined as\n",
    "\n",
    "$$r(n) = \\begin{cases}1 & n = 0, 1, 2, ..., L - 1 \\\\ 0 & \\text{otherwise}\\end{cases}$$\n",
    "\n",
    "Here's an example plot for $L = 7$, with time indices shown from -2 to 8 (so some implicit zeros are shown):\n",
    "\n",
    "![](len7rect.png)\n",
    "\n",
    "Some alternate definitions of the rect will normalize it (so that each nonzero point of the signal has height $1/L$), and some will center it around zero (although this can only be done when $L$ is odd, so that there is a center point and an equal number of nonzero signal points on each side of $n = 0$)."
   ]
  },
  {
   "cell_type": "markdown",
   "metadata": {},
   "source": [
    "### Your Job\n",
    "\n",
    "Fill in the cell below to *generate and plot* a **length 5** rectangular signal, with the time indices ranging from -2 to 8. \n",
    "\n",
    "Some quick refreshers from the content of Question 1:  \n",
    "- We represent both signals and time indices as NumPy arrays. For example, a length 3 rectangular signal can be constructed using the code `np.array([1, 1, 1])`, assuming you wanted to consider it for $n = 0, 1, 2$. \n",
    "- The function `np.arange` is extremely useful for generating sequences of numbers, as we often require when creating time indices for our data, as NumPy arrays.\n",
    "- When calling `plt.stem(x, y)`, the number of elements in `x` must equal the number of elements in `y`. To solve this, we can pad on some of the implicit zeros in our signal, as was done in the above plot, where the zeros for $n=-2,-1,7,8$ were included.\n",
    "\n",
    "As in the plot above, label x and y axes with `plt.xlabel` and `plt.ylabel` (using $n$ and $r(n)$ respectively as was done above is fine; we just want you to get in the habit of labelling your plots). Additionally, use `plt.title` to title your plot as \"Length 5 Rectangular Signal\".\n",
    "\n",
    "**Hint:** We use `plt.stem`, not `plt.plot`, for generating \"lollipop\" plots for discrete-time signals."
   ]
  },
  {
   "cell_type": "code",
   "execution_count": null,
   "metadata": {},
   "outputs": [],
   "source": [
    "# TODO: Length 5 rectangular signal code + plot for n=-2 to 8\n"
   ]
  },
  {
   "cell_type": "markdown",
   "metadata": {},
   "source": [
    "Now, fill in the cell below to *generate and plot* a **length 50** rectangular signal, with the **time indices ranging from 0 to 59**. Give your plot the title \"Length 50 Rectangular Signal\".\n",
    "\n",
    "**Hint:** It's very tedious to type out 50 ones and 10 zeros. This is a great time to practice using the functions `np.concatenate`, `np.ones`, and `np.zeros`."
   ]
  },
  {
   "cell_type": "code",
   "execution_count": null,
   "metadata": {},
   "outputs": [],
   "source": [
    "# TODO: Length 50 rectangular signal code + plot for n=0 to 59\n"
   ]
  },
  {
   "cell_type": "markdown",
   "metadata": {},
   "source": [
    "Now, fill in the cell below to *generate and plot* a **length 13** rectangular signal, with the **time indices ranging from 0 to 12**. Give your plot the title \"Length 13 Rectangular Signal\". Note that the indices 0 to 12 correspond to a total of 13 time points, so no padding of the implicit zeros is necessary."
   ]
  },
  {
   "cell_type": "code",
   "execution_count": null,
   "metadata": {},
   "outputs": [],
   "source": [
    "# TODO: Length 13 rectangular signal code + plot for n=0 to 12\n"
   ]
  },
  {
   "cell_type": "markdown",
   "metadata": {},
   "source": [
    "Finally, fill in the cell below to *generate and plot* a **length 13** rectangular signal, with the **time indices ranging from -10 to 10**. This time, there's a twist: instead of using the definition above as we did in the previous part, make this signal zero-cenetered, so that the signal is nonzero from -6 to 6. Give your plot the title \"Zero-Centered Length 13 Rectangular Signal\"."
   ]
  },
  {
   "cell_type": "code",
   "execution_count": null,
   "metadata": {},
   "outputs": [],
   "source": [
    "# TODO: Zero-centered length 13 rectangular signal code + plot for n=-10 to 10\n"
   ]
  },
  {
   "cell_type": "markdown",
   "metadata": {},
   "source": [
    "## Q2b: The One-Sided Decaying Exponential Signal\n",
    "\n",
    "We define the rate $r$, for all real numbers $r > 0$, one-sided decaying exponential signal as \n",
    "\n",
    "$$x(n) = e^{-rn} u(n) = \\begin{cases}e^{-rn} & n = 0, 1, 2, ... \\\\ 0 & \\text{otherwise}\\end{cases}$$\n",
    "\n",
    "Again, we've adopted the convention of starting our signal at $n=0$. Specifically, this one-sided decaying exponential is said to be *right-sided* since it decays as we go to the right (in fact, since the first nonzero point is at $n=0$, we call the signal *causal*). \n",
    "\n",
    "Here's a plot of the signal for a few different values of $r$, displayed for $n=-5$ to $n=20$:\n",
    "\n",
    "![](decayingexpos.png)\n",
    "\n",
    "As we increase $r$, the signal decays to zero faster and faster. In the case of $r = 0$, we obtain the unit step, which doesn't decay at all."
   ]
  },
  {
   "cell_type": "markdown",
   "metadata": {},
   "source": [
    "### Coping with infinite duration signals: Truncation\n",
    "\n",
    "Note that for all $r > 0$, the signal has infinite duration, unlike our rectangular signal: we can pick an arbitrary $n > 0$, and $x(n)$ will be nonzero (in fact, it will be positive, since the exponential function is always positive).  \n",
    "\n",
    "This creates an issue for us, since we can't store an infinite number of signal values. Fortunately, there's an easy and well-justified solution: *truncation*. Just as calling the \"int\" function causes Python to cast floating-point numbers to integers by chopping off, or *truncating*, the decimal part of the number (e.g. `int(3.1415) = 3`, so that `.1415` is removed), we can ignore all the signal values past some point by not including them. For example, in the above plots, we truncate the signals at $n=20$, so there are only 21 nonzero points in the output. The reason this is well-justified is that for most rates that aren't too small, exponentials decay very rapidly. In the first two plots above, for $n=20$, the signal value appears to have already decayed to zero anyways! For the third, we'd simply need to use more data points (likely around 50-100) if we wanted to capture all signal values above ~.001 or so."
   ]
  },
  {
   "cell_type": "markdown",
   "metadata": {},
   "source": [
    "### Your Job\n",
    "\n",
    "Rather than recreate the same code for generating our signal several times as we did in Q2a, let's create a function for generating our one-sided decaying exponential signal. Then, we can just call the function each time we want to generate the signal. Fill in the `decaying_expo` function below according to the docstring. For credit, make sure to run the test cases.\n",
    "\n",
    "If you're unsure of how to return multiple values from a Python function, you should go back to Q1.\n",
    "\n",
    "**Hint:** Your function needs to handle two separate cases: `n_start >= 0`, and `n_start < 0`. We recommend you define two variables: one for your time indices, and one for your signal. Then, based on `n_start`, assign them the appropriate values."
   ]
  },
  {
   "cell_type": "code",
   "execution_count": null,
   "metadata": {},
   "outputs": [],
   "source": [
    "def decaying_expo(rate, n_start, n_end):\n",
    "    \"\"\"\n",
    "    Returns a right-sided decaying exponential signal, truncated to the provided indices.\n",
    "    \n",
    "    Parameters:\n",
    "    rate    - The decay rate.\n",
    "    n_start - The first time index to use in generating the signal. \n",
    "    n_end   - The last time index to use in generating the signal.\n",
    "    \n",
    "    Returns:\n",
    "    n       - The time indices the signal is generated for: n_start, n_start + 1, ..., n_end.\n",
    "    sig     - The signal values for each input in n.\n",
    "    \n",
    "    If n_start is not less than n_end, a ValueError will be raised, as this specifies an empty\n",
    "    range of time indices to generate the signal over.    \n",
    "    \"\"\"    \n",
    "    if n_start >= n_end:\n",
    "        raise ValueError(\"n_start must be less than n_end\")\n",
    "    \n",
    "    # TODO: YOUR CODE HERE\n"
   ]
  },
  {
   "cell_type": "code",
   "execution_count": null,
   "metadata": {},
   "outputs": [],
   "source": [
    "lab0_helper.run_tests(decaying_expo)"
   ]
  },
  {
   "cell_type": "markdown",
   "metadata": {},
   "source": [
    "Once all tests are passing, fill in the cell below to recreate the plot that was given to you above for the right-sided decaying exponentials. \n",
    "\n",
    "Using your shiny new and tested function, this should be pretty simple; the only work is in generating the plots. If you're unsure of how to plot multiple signals below one another, head back to the **\"Plotting multiple signals in different figures\"** section of Q1. Alternatively, if you're feeling fancy, this would be a great opportunity to try your hand at using matplotlib's [subplot](https://matplotlib.org/3.1.0/api/_as_gen/matplotlib.pyplot.subplot.html) function to generate a 3x1 grid of plots within the same figure. Either plotting method is acceptable."
   ]
  },
  {
   "cell_type": "code",
   "execution_count": null,
   "metadata": {},
   "outputs": [],
   "source": [
    "# TODO your signal/time index generation here\n",
    "\n",
    "\n",
    "# TODO your plotting code here\n"
   ]
  },
  {
   "cell_type": "markdown",
   "metadata": {},
   "source": [
    "You can do a quick sanity check on your results by comparing to the original plot above. The two should match exactly. **Don't forget to add plot titles!**"
   ]
  },
  {
   "cell_type": "markdown",
   "metadata": {},
   "source": [
    "# References\n",
    "[1] The official Python 3 language documentation. [Link](https://docs.python.org/3/).  \n",
    "[2] The official NumPy and SciPy documentation. [Link](https://docs.scipy.org/doc/).  \n",
    "[3] The official Matplotlib documentation. [Link](https://matplotlib.org/contents.html).    \n",
    "\n",
    "Special thanks to the [Berkeley Python Bootcamp 2013](https://github.com/profjsb/python-bootcamp), [Python for Signal Processing Tutorial](http://link.springer.com/book/10.1007%2F978-3-319-01342-8), [EE 123 Lab 0](https://inst.eecs.berkeley.edu/~ee123/sp18/lab/lab0/python_tutorial.ipynb) and [EECS 126 Lab 1](https://inst.eecs.berkeley.edu/~ee126/sp18/LAB01.zip) for providing a great starting point for Question 1 through their own publicly available tutorials."
   ]
  }
 ],
 "metadata": {
  "anaconda-cloud": {},
  "kernelspec": {
   "display_name": "Python [Root]",
   "language": "python",
   "name": "Python [Root]"
  },
  "language_info": {
   "codemirror_mode": {
    "name": "ipython",
    "version": 3
   },
   "file_extension": ".py",
   "mimetype": "text/x-python",
   "name": "python",
   "nbconvert_exporter": "python",
   "pygments_lexer": "ipython3",
   "version": "3.5.6"
  }
 },
 "nbformat": 4,
 "nbformat_minor": 1
}
