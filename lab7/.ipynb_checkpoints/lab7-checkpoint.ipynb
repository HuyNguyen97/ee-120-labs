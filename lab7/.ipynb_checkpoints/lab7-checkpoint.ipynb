{
 "cells": [
  {
   "cell_type": "markdown",
   "metadata": {},
   "source": [
    "# EE 120 Lab 7: Communication\n",
    "\n",
    "**Signals and Systems** at UC Berkeley\n",
    "\n",
    "Acknowledgements:\n",
    "* **Spring 2020** (v1.0): Jonathan Lee, Galen Kimball, Babak Ayazifar"
   ]
  },
  {
   "cell_type": "markdown",
   "metadata": {},
   "source": [
    "## Introduction\n",
    "\n",
    "You may not realize it, but the air is filled with radio waves, an invisible form of electromagnetic radiation.\n",
    "Your laptop's wifi card, TV stations, airplane transceivers, and even the [International Space Station](https://spaceflight.nasa.gov/station/reference/radio/index.html) all use radio to carry information at the speed of light.\n",
    "In this lab, we'll explore several digital communication schemes in which a sender transmits bits to a receiver over a *channel*, a physical medium like radio.\n",
    "\n",
    "### Dependencies\n",
    "\n",
    "We will reuse the [`sounddevice`](https://python-sounddevice.readthedocs.io/en/0.3.15/) package from earlier labs to play and record audio simultaneously.\n",
    "Install `sounddevice` using the Python package manager of your choice (we recommend [`pip`](https://pip.pypa.io/en/stable/installing/)):\n",
    "```\n",
    "$ pip install --user sounddevice\n",
    "$ conda install -c conda-forge python-sounddevice\n",
    "```\n",
    "To get assistance with installation on Piazza, provide as much debug information as you can, including operating system, Python version, steps to reproduce the error, and the full traceback."
   ]
  },
  {
   "cell_type": "code",
   "execution_count": null,
   "metadata": {},
   "outputs": [],
   "source": [
    "import numpy as np\n",
    "import matplotlib.pyplot as plt\n",
    "from scipy import cluster, signal\n",
    "from scipy.io import wavfile\n",
    "import sounddevice as sd\n",
    "\n",
    "if 'ggplot' in plt.style.available:\n",
    "    plt.style.use('ggplot')\n",
    "\n",
    "%matplotlib inline"
   ]
  },
  {
   "cell_type": "markdown",
   "metadata": {},
   "source": [
    "## Q1: Amplitude Modulation\n",
    "\n",
    "First, we'll review classic analog amplitude modulation (AM).\n",
    "Suppose Babak wants to share an audio recording of one of his lectures, a bandlimited continuous-time signal $x(t)$, with the class.\n",
    "Unfortunately, he cannot efficiently transmit $x(t)$ as-is across long distances because the human voice is simply not energetic enough.\n",
    "\n",
    "AM solves this problem by layering $x(t)$ on a purely sinusoidal *carrier signal*\n",
    "$$c(t) = \\cos{\\omega_0 t} \\stackrel{\\mathcal{F}}{\\longleftrightarrow} \\pi \\left[\\delta(\\omega + \\omega_0) + \\delta(\\omega - \\omega_0)\\right]$$\n",
    "using multiplication, which effectively shapes $c(t)$'s envelope:\n",
    "$$r(t) \\triangleq x(t) c(t) \\stackrel{\\mathcal{F}}{\\longleftrightarrow} R(\\omega) = \\frac{1}{2\\pi} (X * C)(\\omega) = \\frac{1}{2} \\left[X(\\omega+\\omega_0) + X(\\omega-\\omega_0)\\right]$$\n",
    "Typically, the carrier frequency $\\omega_0$ is much greater than the maximum frequency in $x(t)$.\n",
    "\n",
    "After $r(t)$ is transmitted and received, the students in the class recover $x(t)$ by demodulating, which entails lowpass filtering $r(t) c(t)$:\n",
    "$$r(t) c(t) \\stackrel{\\mathcal{F}}{\\longleftrightarrow} \\frac{1}{2\\pi} (R * C)(\\omega) = \\underbrace{\\frac{1}{4} X(\\omega+2\\omega_0)}_{\\text{Removed}} + \\underbrace{\\frac{1}{2} X(\\omega)}_{\\text{Amplify by } 2} + \\underbrace{\\frac{1}{4} X(\\omega-2\\omega_0)}_{\\text{Removed}}$$"
   ]
  },
  {
   "cell_type": "code",
   "execution_count": null,
   "metadata": {},
   "outputs": [],
   "source": [
    "def play(signal):\n",
    "    try:\n",
    "        sd.play(signal, blocking=True)\n",
    "    except KeyboardInterrupt:\n",
    "        print('Interrupted playback.')"
   ]
  },
  {
   "cell_type": "markdown",
   "metadata": {},
   "source": [
    "First, we'll load the recording that Babak wants to send.\n",
    "If you check the shape of `stereo`, you'll notice the lecture recording has two channels that are fed into the left and right sides of your headphones/speaker.\n",
    "\n",
    "**Your task**: Since we don't care about this feature, average the two channels using [`np.mean`](https://numpy.org/doc/stable/reference/generated/numpy.mean.html) to convert the recording into mono (1D) format, then listen to the recording.\n",
    "You can interrupt a playback using \"Kernel > Interrupt\" in the Jupyter notebook menu."
   ]
  },
  {
   "cell_type": "code",
   "execution_count": null,
   "metadata": {},
   "outputs": [],
   "source": [
    "fs, stereo = wavfile.read('babak.wav')\n",
    "print('Original shape:', stereo.shape)\n",
    "mono = ...  # *** TODO: Your code here ***\n",
    "mono = mono.astype(np.float32)/np.iinfo(np.int16).max\n",
    "sd.default.samplerate = fs\n",
    "sd.default.channels = 1\n",
    "play(mono)"
   ]
  },
  {
   "cell_type": "markdown",
   "metadata": {},
   "source": [
    "**Your task**: In the next cell, implement `am_modulate` according to the docstring.\n",
    "\n",
    "We modulate to $\\omega_0 = \\pm 8~\\text{kHz}$ and play the recording.\n",
    "It should sound unintelligible and somewhat scratchy because everything has been moved to higher frequencies."
   ]
  },
  {
   "cell_type": "code",
   "execution_count": null,
   "metadata": {},
   "outputs": [],
   "source": [
    "def am_modulate(x, f0=8e3, fs=48e3):\n",
    "    \"\"\"\n",
    "    Amplitude modulate the given baseband signal.\n",
    "    \n",
    "    Arguments:\n",
    "        x (numpy.ndarray): Samples of the baseband signal x(t), as\n",
    "            defined in the derivation above, sampled at the given\n",
    "            sampling rate.\n",
    "        f0 (float): Carrier frequency in Hertz. Remember to multiply\n",
    "            by 2\\pi to get a radial frequency \\omega_0 in rad/s!\n",
    "        fs (float): Sampling frequency in Hertz.\n",
    "    \n",
    "    Hint:\n",
    "        Use the sampling frequency and `len(x)`, the number of samples,\n",
    "        to generate the sampling times `t`. Once you have `t`, generate\n",
    "        the carrier sinusoid.\n",
    "    \"\"\"\n",
    "    # *** TODO: Your code here ***\n",
    "\n",
    "modulated = am_modulate(mono, fs=fs)\n",
    "play(modulated)"
   ]
  },
  {
   "cell_type": "markdown",
   "metadata": {},
   "source": [
    "**Your task:** Implement `am_demodulate` (similar to `am_modulate`).\n",
    "\n",
    "We demodulate *without* applying a lowpass filter (i.e, there are replicas of the baseband centered at $\\pm 16~\\text{kHz}$).\n",
    "The received recording is intelligble, but you can also hear the unpleasant high frequencies."
   ]
  },
  {
   "cell_type": "code",
   "execution_count": null,
   "metadata": {},
   "outputs": [],
   "source": [
    "def am_demodulate(r, f0=8e3, fs=48e3, lpf=None):\n",
    "    \"\"\"\n",
    "    Recover the baseband signal from an amplitude-modulated signal.\n",
    "    \n",
    "    Arguments:\n",
    "        r: Received modulated signal.\n",
    "        f0: Carrier frequency.\n",
    "        fs: Sampling frequency.\n",
    "        lpf (numpy.ndarray): The impulse response of the AM lowpass filter\n",
    "            (optional). Is `None` when not provided.\n",
    "    \n",
    "    Note::\n",
    "        Remember that the final result needs to be scaled by 2.\n",
    "    \"\"\"\n",
    "    # *** TODO: Your code here ***\n",
    "\n",
    "demodulated_with_replicas = am_demodulate(modulated)\n",
    "play(demodulated_with_replicas)"
   ]
  },
  {
   "cell_type": "markdown",
   "metadata": {},
   "source": [
    "**Your task**: In the next cell, design the impulse response of the AM lowpass filter (LPF) using [`scipy.signal.firwin`](https://docs.scipy.org/doc/scipy/reference/generated/scipy.signal.firwin.html).\n",
    "We recommend `numtaps` (i.e., impulse response length) of ~30.\n",
    "The lowpass filter magnitude response, modulated spectrum, and baseband spectrum are plotted below, and can be used to help you pick a suitable cutoff frequency.\n",
    "\n",
    "Recall that the ideal lowpass filter has a rectangular spectrum but is IIR, which not only requires infinite memory, but is not causal.\n",
    "One way to design an FIR, causal LPF is to \"window\" (truncate) and delay the impulse response.\n",
    "In the frequency domain, this corresponds to convolving the filter magnitude response with the window's transform, then multiply by a complex exponential (time delay property).\n",
    "The convolution with the window's transform results in the curved shape that you see."
   ]
  },
  {
   "cell_type": "code",
   "execution_count": null,
   "metadata": {},
   "outputs": [],
   "source": [
    "def normalized_spectrum(x):\n",
    "    \"\"\"\n",
    "    Compute the single-sided spectrum (magnitude) of a real signal,\n",
    "    normalizing to one.\n",
    "    \"\"\"\n",
    "    X = np.abs(np.fft.rfft(x))\n",
    "    return X/X.max()\n",
    "\n",
    "lpf = ...  # *** TODO: Your code here ***\n",
    "w, h_lpf = signal.freqz(lpf, fs=fs)\n",
    "\n",
    "h_mono = normalized_spectrum(mono)\n",
    "h_mod = normalized_spectrum(modulated)\n",
    "\n",
    "w_ss = np.linspace(0, 0.5*fs, h_mono.size)\n",
    "plt.figure(figsize=(10, 6))\n",
    "plt.plot(w, np.abs(h_lpf), color='tab:red', linestyle='dashed')\n",
    "plt.plot(w_ss, h_mono, label='Original', color='tab:blue', alpha=0.3)\n",
    "plt.plot(w_ss, h_mod, label='Amplitude-Modulated', color='tab:orange', alpha=0.3)\n",
    "plt.legend()"
   ]
  },
  {
   "cell_type": "markdown",
   "metadata": {},
   "source": [
    "The next block demodulates *and* applies the lowpass filter, which removes the high frequency replicas.\n",
    "You can also see that the mean squared error (MSE) is small relative to the maximum amplitude of the mono signal (~1)."
   ]
  },
  {
   "cell_type": "code",
   "execution_count": null,
   "metadata": {},
   "outputs": [],
   "source": [
    "demodulated = am_demodulate(modulated, lpf=lpf)\n",
    "print('MSE: {}'.format(np.round(np.mean((demodulated - mono)**2), 5)))\n",
    "play(demodulated)"
   ]
  },
  {
   "cell_type": "markdown",
   "metadata": {},
   "source": [
    "## Q2: On-Off Keying (OOK)\n",
    "\n",
    "We turn our attention to a digital communication scheme, on-off keying.\n",
    "The idea is fairly straightforward: transmit the carrier for the \"one\" bit, and nothing for the \"zero\" bit.\n",
    "We can view this as a special case of AM with a piecewise-constant $x(t) \\in \\{0, 1\\}$.\n",
    "Bits are transmitted according to an agreed-upon bit rate.\n",
    "\n",
    "Because real hardware cannot produce discontinuous signals, we shouldn't jump straight to or from zero during a bit transition.\n",
    "Instead, every bit period should be windowed with a [Hann window](https://en.wikipedia.org/wiki/Hann_function), which has the effect of tapering the edges to zero and producing a continuous \"pulse\".\n",
    "\n",
    "**Your task:** Implement the function `ook_encode` using `am_modulate`. Consult the [SciPy documentation](https://docs.scipy.org/doc/scipy/reference/generated/scipy.signal.windows.hann.html?highlight=hann#scipy.signal.windows.hann) to generate the window.\n",
    "\n",
    "We'll plot the modulated signal and its spectrum for a short bitstream."
   ]
  },
  {
   "cell_type": "code",
   "execution_count": null,
   "metadata": {},
   "outputs": [],
   "source": [
    "def ook_encode(bits, bit_rate=200, f0=8e3, fs=48e3):\n",
    "    \"\"\"\n",
    "    Encode a packet of bits using on-off keying with Hann windowing.\n",
    "    \n",
    "    Arguments:\n",
    "        bits (numpy.ndarray): 1D array of bits (0 or 1).\n",
    "        bit_rate (float): Frequency bits are sent at.\n",
    "        f0 (float): Carrier frequency.\n",
    "        fs (float): Sampling frequency.\n",
    "    \n",
    "    All frequencies are in Hertz.\n",
    "    \n",
    "    Hint:\n",
    "        Assume the sampling rate is evenly divisible by the bit rate.\n",
    "        Then, the quantity `fs/bit_rate` is an integer, and can be\n",
    "        interpreted as the number of samples per bit.\n",
    "    \"\"\"\n",
    "    # *** TODO: Your code here ***\n",
    "\n",
    "packet = np.array([0, 1, 0, 0, 1, 1], dtype=np.uint8)\n",
    "ook_baseband = ook_encode(packet)\n",
    "plt.figure(figsize=(10, 6))\n",
    "plt.plot(ook_baseband)\n",
    "plt.figure(figsize=(10, 6))\n",
    "plt.plot(np.linspace(-0.5*fs, 0.5*fs, ook_baseband.size),\n",
    "         np.abs(np.fft.fft(ook_baseband)))"
   ]
  }
 ],
 "metadata": {
  "anaconda-cloud": {},
  "kernelspec": {
   "display_name": "Python [Root]",
   "language": "python",
   "name": "Python [Root]"
  },
  "language_info": {
   "codemirror_mode": {
    "name": "ipython",
    "version": 3
   },
   "file_extension": ".py",
   "mimetype": "text/x-python",
   "name": "python",
   "nbconvert_exporter": "python",
   "pygments_lexer": "ipython3",
   "version": "3.5.6"
  }
 },
 "nbformat": 4,
 "nbformat_minor": 2
}
